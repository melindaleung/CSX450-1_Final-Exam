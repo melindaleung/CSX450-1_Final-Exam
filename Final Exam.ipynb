{
 "cells": [
  {
   "cell_type": "markdown",
   "metadata": {},
   "source": [
    "### CSX_450-1 Final Exam\n",
    "\n",
    "\n",
    "**1.** Launch and run Jupyter on a brand-new AWS Instance\n",
    "![AWS Instance](AWS Instance.jpg)"
   ]
  },
  {
   "cell_type": "code",
   "execution_count": 12,
   "metadata": {
    "scrolled": true
   },
   "outputs": [
    {
     "name": "stdout",
     "output_type": "stream",
     "text": [
      "[1] \"USER       PID %CPU %MEM    VSZ   RSS TTY      STAT START   TIME COMMAND\"                                                                                                                                                  \n",
      "[2] \"jovyan       1  0.0  0.0   4372   740 ?        Ss   20:52   0:00 tini -- start-notebook.sh\"                                                                                                                                \n",
      "[3] \"jovyan       5  0.1  6.1 357444 62280 ?        Sl   20:52   0:01 /opt/conda/bin/python /opt/conda/bin/jupyter-notebook\"                                                                                                    \n",
      "[4] \"jovyan      27  0.0  5.6 320168 57724 ?        Ssl  20:56   0:00 /opt/conda/lib/R/bin/exec/R --slave -e IRkernel::main() --args /home/jovyan/.local/share/jupyter/runtime/kernel-412b13e3-4671-4da2-834d-6100934c572a.json\"\n",
      "[5] \"jovyan      50  0.0  0.0   4512   688 ?        S    21:20   0:00 sh -c ps -aux\"                                                                                                                                            \n",
      "[6] \"jovyan      51  0.0  0.3  36088  3236 ?        R    21:20   0:00 ps -aux\"                                                                                                                                                  \n"
     ]
    }
   ],
   "source": [
    "print(system(\"ps -aux\", intern = TRUE))"
   ]
  },
  {
   "cell_type": "markdown",
   "metadata": {},
   "source": [
    "**3.** The first line shows when the notebook was launched (20:52) and the last line shows the time you just ran the code. Therefore, if you subtract the two, you will know how long this system has been running. "
   ]
  },
  {
   "cell_type": "markdown",
   "metadata": {},
   "source": [
    "**4.** The length is **9** and the magnitude is 14.28.  "
   ]
  },
  {
   "cell_type": "code",
   "execution_count": 15,
   "metadata": {},
   "outputs": [
    {
     "data": {
      "text/html": [
       "9"
      ],
      "text/latex": [
       "9"
      ],
      "text/markdown": [
       "9"
      ],
      "text/plain": [
       "[1] 9"
      ]
     },
     "metadata": {},
     "output_type": "display_data"
    },
    {
     "data": {
      "text/html": [
       "14.2828568570857"
      ],
      "text/latex": [
       "14.2828568570857"
      ],
      "text/markdown": [
       "14.2828568570857"
      ],
      "text/plain": [
       "[1] 14.28286"
      ]
     },
     "metadata": {},
     "output_type": "display_data"
    }
   ],
   "source": [
    "vector <- c(2,5,3,6,2,7,4,5,6)\n",
    "length(vector)\n",
    "sqrt(sum(vector**2)) #magnitude"
   ]
  },
  {
   "cell_type": "code",
   "execution_count": 18,
   "metadata": {},
   "outputs": [
    {
     "data": {
      "text/html": [
       "<ol class=list-inline>\n",
       "\t<li>2.5</li>\n",
       "\t<li>0.5</li>\n",
       "</ol>\n"
      ],
      "text/latex": [
       "\\begin{enumerate*}\n",
       "\\item 2.5\n",
       "\\item 0.5\n",
       "\\end{enumerate*}\n"
      ],
      "text/markdown": [
       "1. 2.5\n",
       "2. 0.5\n",
       "\n",
       "\n"
      ],
      "text/plain": [
       "[1] 2.5 0.5"
      ]
     },
     "metadata": {},
     "output_type": "display_data"
    }
   ],
   "source": [
    "x <- matrix(c(1,1,3,-1), 2, 2)\n",
    "y <- c(4,2)\n",
    "solve(x,y)"
   ]
  },
  {
   "cell_type": "markdown",
   "metadata": {},
   "source": [
    "**7.** Abalone Data Set `tree` image\n",
    "![Abalone Data Set Repo](.jpg)"
   ]
  }
 ],
 "metadata": {
  "kernelspec": {
   "display_name": "R",
   "language": "R",
   "name": "ir"
  },
  "language_info": {
   "codemirror_mode": "r",
   "file_extension": ".r",
   "mimetype": "text/x-r-source",
   "name": "R",
   "pygments_lexer": "r",
   "version": "3.3.2"
  }
 },
 "nbformat": 4,
 "nbformat_minor": 2
}
